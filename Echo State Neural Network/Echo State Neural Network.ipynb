{
 "cells": [
  {
   "cell_type": "code",
   "execution_count": 1,
   "id": "5ed015cb",
   "metadata": {},
   "outputs": [],
   "source": [
    "import numpy\n",
    "import matplotlib.pyplot as plt\n",
    "from scipy import linalg\n",
    "from sklearn.metrics import mean_squared_error\n",
    "from sklearn.metrics import mean_absolute_percentage_error"
   ]
  },
  {
   "cell_type": "code",
   "execution_count": 2,
   "id": "9861e783",
   "metadata": {},
   "outputs": [],
   "source": [
    "# GARANTE O FORMATO DAS COLUNAS PARA ARRAYS UNIDIMENSIONAIS\n",
    "def reshape(df):\n",
    "    # CASO NÃO HAJA INFORMAÇÕES EM SHAPE, EX.: SHAPE(X) = (#, )\n",
    "    if len(df.shape) < 2:\n",
    "        # FORÇA O FORMATO SHAPE(X) = (#, 1)\n",
    "        return numpy.reshape(df, (df.shape[0], 1))\n",
    "    else:\n",
    "        # SENÃO, NÃO ALTERE O FORMATO DOS DADOS\n",
    "        return df\n",
    "    \n",
    "# MATRIZ DE PESOS DE ENTRADA\n",
    "def input_weights(N = 10, K = 1, input_scaling = 1):\n",
    "    # CRIA UMA MATRIZ DE DIMENSÕES N x (K + 1)\n",
    "    # DISTRIBUIÇÃO DE VALORES UNIFORMES ENTRE (SCALE x -0.5, SCALE x 0.5)\n",
    "    return((numpy.random.rand(N, 1 + K) - 0.5) * input_scaling)\n",
    "\n",
    "# MATRIZ DE PESOS DE RESERVATÓRIO\n",
    "def reservoir_weights(N = 10, spectral_radius = 1.00, sparsity = 0):\n",
    "    # CRIA UMA MATRIZ DE DIMENSÕES N x N\n",
    "    # DISTRIBUIÇÃO DE VALORES UNIFORMES ENTRE (-0.5, 0.5)\n",
    "    w = numpy.random.rand(N, N) - 0.5\n",
    "    # CALCULA O MAIOR AUTOVALOR ABSOLUTO DA MATRIZ DE PESOS\n",
    "    # FORÇA O AUTOVALOR DA MATRIZ PARA 1 E ESCALONA PELO RAIO ESPECTRAL DESEJADO\n",
    "    w *= spectral_radius / numpy.max(numpy.abs(linalg.eig(w)[0]))\n",
    "    # APLICA ESPARSIDADE NA MATRIZ\n",
    "    w[numpy.random.rand(N, N) < sparsity] = 0\n",
    "    return(w)\n",
    "\n",
    "# MATRIZ DE ESTADOS\n",
    "def create_states(dim = 1, patterns = 100):\n",
    "    # CRIA UMA MATRIZ DE ESTADOS ZERADA\n",
    "    return(numpy.zeros((dim, patterns)))\n",
    "\n",
    "# HARVESTING -> ATUALIZAÇÃO DOS ESTADOS\n",
    "def harvesting_states(state_matrix, input_patterns, win, wres, initial_state, leaking = 0.5, transiente = 0):\n",
    "    # ESTADO INICIAL DO MODELO, EM CASO DE TRAINNING O ESTADO É POR DEFAULT ZERO PARA TODOS OS NEURÔNIOS\n",
    "    state = initial_state.copy()\n",
    "    for n in range(input_patterns.shape[0]):\n",
    "        # CADA PADRÃO DE INPUT\n",
    "        u = input_patterns[n,:]\n",
    "        # ATUALIZA OS ESTADOS CONFORME A EQUAÇÃO DE ATUALIZAÇÃO\n",
    "        state = (1 - leaking)*state + leaking*numpy.tanh(numpy.dot(win, reshape(numpy.hstack((1, u)))) + numpy.dot(wres, state))\n",
    "        if n >= transiente:\n",
    "            # DESCARTA O TRANSIENTE, REPASSA OS VALORES DE ESTADOS OBTIDOS\n",
    "            state_matrix[:, n - transiente] = numpy.hstack((1, u, state[:,0]))\n",
    "    return(state_matrix)\n",
    "\n",
    "# REGRESSÃO DE RIDGE\n",
    "def ridge_regression(states, target, reg = 1e-8):\n",
    "    # RESOLVE A PROJEÇÃO DOS ESTADOS NO \"TARGET\" (OUTPUT DESEJADO)\n",
    "    return(linalg.solve(numpy.dot(states, states.T) + reg * numpy.eye(states.shape[0]), \n",
    "                        numpy.dot(states, target.T)).T[0]\n",
    "          )\n",
    "\n",
    "# ALTERA O DATASET ORIGINAL, CONFORME O NÚMERO DE JANELAS DESEJADAS\n",
    "def set_window(name = \"NormHenon.txt\", window_len = 1, begin = 0):\n",
    "    # REALIZA A LEITURA DO ARQUIVO\n",
    "    df = reshape(numpy.loadtxt(name, delimiter = \",\"))\n",
    "    # CORTA O DATAFRAME NO PONTO DESEJADO\n",
    "    df = df[begin:df.shape[0],:]\n",
    "    # CALCULA TAMANHO DE JANELA x DIMENSÃO DA JANELA\n",
    "    x = df.shape[1] * window_len\n",
    "    # CRIA REFERÊNCIA INICIAL\n",
    "    windows = df.copy()[0:df.shape[0]-(window_len - 1),:]\n",
    "    for j in range(1, window_len):\n",
    "        # CONCATENA O DATAFRAME SHIFITADO\n",
    "        windows = numpy.hstack([windows, df.copy()[j:j+windows.shape[0],:]])\n",
    "    return(windows, x)"
   ]
  },
  {
   "cell_type": "code",
   "execution_count": 3,
   "id": "ea3ed04b",
   "metadata": {},
   "outputs": [],
   "source": [
    "# TAMANHO DE JANELA DE ENTRADA (INPUT)\n",
    "len_window_input = 3\n",
    "# TAMANHO DE JANELA DE SAÍDA (OUTPUT)\n",
    "len_window_output = 1\n",
    "\n",
    "# PASSOS AHEAD QUE DESEJAMOS PREVER\n",
    "steps = 1\n",
    "\n",
    "# TAMANHO DA JANELA DE TRAINNING\n",
    "train_length = 4000\n",
    "# TAMANHO DA JANELA DE TESTING\n",
    "test_length = 1000\n",
    "\n",
    "# TRANSIENTE, VALORES A SEREM DESCARTADOS\n",
    "transiente = 1000\n",
    "\n",
    "# NÚMERO DE NEURÔNIOS NA CAMADA OCULTA, INT, N > 0\n",
    "N = 200\n",
    "# TAXA DE VAZAMENTO ESPECTRAL, FLOAT, NO CONJUNTO (0, 1]\n",
    "leaking_rate = 0.5\n",
    "# ESPARSIDADE DA MATRIZ, FLOAT, NO CONJUNTO [0, 1]\n",
    "sparsity = 0.0\n",
    "# ESCALA DOS DADOS DE ENTRADA, FLOAT, NO CONJUNTO (0, INF)\n",
    "input_scaling = 1\n",
    "# RAIO ESPECTRAL DESEJADO, FLOAT, NO CONJUNTO (0, INF)\n",
    "spectral_radius = 0.5"
   ]
  },
  {
   "cell_type": "code",
   "execution_count": 4,
   "id": "3118fc55",
   "metadata": {},
   "outputs": [],
   "source": [
    "# INPUT DO SISTEMA\n",
    "input_dataset, K = set_window(name = \"series_henon_norm.txt\", window_len = len_window_input, begin = 0)\n",
    "# OUTPUT ESPERADO\n",
    "output_dataset, L = set_window(name = \"series_henon_norm.txt\", window_len = len_window_output, begin = len_window_input)\n",
    "\n",
    "# DATASET DE TREINO -> [(X0), (X1), (X2), ..., (Xjanela_treino-1)]\n",
    "train_dataset = input_dataset[0 : train_length, :]\n",
    "# DATASET DE TREINO (TARGET) -> [(Ysteps+transiente), (Ysteps+transiente+1), ..., (Ysteps+janela_treino-1)]\n",
    "train_target = output_dataset[None, steps + transiente - 1 : train_length + steps - 1, :]\n",
    "\n",
    "# DATASET DE TESTE -> [(Xjanela_treino), (Xjanela_treino+1), (Xjanela_treino+2), ..., (Xjanela_treino+janela_teste-1)]\n",
    "test_dataset = input_dataset[train_length : train_length + test_length, :]\n",
    "# DATASET DE TESTE (TARGET) -> [(Ysteps+janela_treino+janela_teste), ..., (Ysteps+janela_treino+janela_teste-1)]\n",
    "test_target = output_dataset[train_length + steps - 1 : train_length + test_length + steps - 1, :].T"
   ]
  },
  {
   "cell_type": "code",
   "execution_count": 5,
   "id": "3569eaa3",
   "metadata": {},
   "outputs": [
    {
     "data": {
      "text/plain": [
       "array([[-0.50345012, -0.50072158,  1.1035704 , -0.50072158, -0.97664434,\n",
       "         1.10224828],\n",
       "       [ 1.1035704 , -0.50072158, -0.97664434,  1.10224828,  1.24817774,\n",
       "        -0.97682568],\n",
       "       [-0.97664434,  1.10224828,  1.24817774, -0.97682568, -1.32500153,\n",
       "         1.25033516],\n",
       "       ...,\n",
       "       [-0.76217653, -1.61600709,  0.42538895, -0.76050423,  0.0672094 ,\n",
       "         0.41892809],\n",
       "       [ 0.42538895, -0.76050423,  0.0672094 ,  0.41892809,  1.03471082,\n",
       "         0.06385679],\n",
       "       [ 0.0672094 ,  0.41892809,  1.03471082,  0.06385679, -0.72623223,\n",
       "         1.03204793]])"
      ]
     },
     "execution_count": 5,
     "metadata": {},
     "output_type": "execute_result"
    }
   ],
   "source": [
    "input_dataset"
   ]
  },
  {
   "cell_type": "code",
   "execution_count": 6,
   "id": "a4dffe90",
   "metadata": {},
   "outputs": [
    {
     "data": {
      "text/plain": [
       "array([[ 1.24817774, -0.97682568],\n",
       "       [-1.32500153,  1.25033516],\n",
       "       [ 0.31606186, -1.32583368],\n",
       "       ...,\n",
       "       [ 0.0672094 ,  0.41892809],\n",
       "       [ 1.03471082,  0.06385679],\n",
       "       [-0.72623223,  1.03204793]])"
      ]
     },
     "execution_count": 6,
     "metadata": {},
     "output_type": "execute_result"
    }
   ],
   "source": [
    "output_dataset"
   ]
  },
  {
   "cell_type": "code",
   "execution_count": 7,
   "id": "71f04639",
   "metadata": {},
   "outputs": [
    {
     "data": {
      "text/plain": [
       "array([[-0.50345012, -0.50072158,  1.1035704 , -0.50072158, -0.97664434,\n",
       "         1.10224828],\n",
       "       [ 1.1035704 , -0.50072158, -0.97664434,  1.10224828,  1.24817774,\n",
       "        -0.97682568],\n",
       "       [-0.97664434,  1.10224828,  1.24817774, -0.97682568, -1.32500153,\n",
       "         1.25033516],\n",
       "       ...,\n",
       "       [ 0.86624938,  0.12923607, -0.41309421,  0.86113568,  1.6000105 ,\n",
       "        -0.41079576],\n",
       "       [-0.41309421,  0.86113568,  1.6000105 , -0.41079576, -1.72740329,\n",
       "         1.61454086],\n",
       "       [ 1.6000105 , -0.41079576, -1.72740329,  1.61454086, -1.17371478,\n",
       "        -1.71939559]])"
      ]
     },
     "execution_count": 7,
     "metadata": {},
     "output_type": "execute_result"
    }
   ],
   "source": [
    "train_dataset"
   ]
  },
  {
   "cell_type": "code",
   "execution_count": 8,
   "id": "8b7bc451",
   "metadata": {},
   "outputs": [
    {
     "data": {
      "text/plain": [
       "array([[[ 0.94502104, -1.12608998],\n",
       "        [-0.90392384,  0.94090928],\n",
       "        [ 1.33015928, -0.90349501],\n",
       "        ...,\n",
       "        [-1.72740329,  1.61454086],\n",
       "        [-1.17371478, -1.71939559],\n",
       "        [-0.28592427, -1.17490563]]])"
      ]
     },
     "execution_count": 8,
     "metadata": {},
     "output_type": "execute_result"
    }
   ],
   "source": [
    "train_target"
   ]
  },
  {
   "cell_type": "code",
   "execution_count": 9,
   "id": "54a768c7",
   "metadata": {},
   "outputs": [],
   "source": [
    "# DEFINE UMA SEMENTE DO GERADOR PSEUDO-ALEATORIO\n",
    "numpy.random.seed(42)\n",
    "\n",
    "# PESOS DE ENTRADA\n",
    "W_input = input_weights(N = N, K = K, input_scaling = input_scaling)\n",
    "# PESOS DE RESERVATORIO\n",
    "W_reservoir = reservoir_weights(N = N, spectral_radius = spectral_radius, sparsity = sparsity)\n",
    "\n",
    "# MATRIZ DE ESTADOS (TRAINNING)\n",
    "state_matrix = harvesting_states(state_matrix = create_states(dim = 1 + K + N, patterns = train_length - transiente), \n",
    "                                 input_patterns = train_dataset, \n",
    "                                 win = W_input, \n",
    "                                 wres = W_reservoir, \n",
    "                                 initial_state = numpy.zeros((N, 1)),\n",
    "                                 leaking = leaking_rate, \n",
    "                                 transiente = transiente)\n",
    "\n",
    "# PESOS DE SAÍDA\n",
    "W_output = ridge_regression(states = state_matrix, target = train_target)"
   ]
  },
  {
   "cell_type": "code",
   "execution_count": 10,
   "id": "928ea766",
   "metadata": {},
   "outputs": [],
   "source": [
    "# O ESTADO INICIAL É O ÚLTIMO ESTADO DO TREINAMENTO\n",
    "initial_state = reshape(state_matrix[K + 1::,-1])\n",
    "\n",
    "# MATRIX DE ESTADOS (TESTING)\n",
    "state_matrix = harvesting_states(state_matrix = create_states(dim = 1 + K + N, patterns = test_length), \n",
    "                                 input_patterns = test_dataset, \n",
    "                                 win = W_input, wres = W_reservoir, \n",
    "                                 initial_state = initial_state,\n",
    "                                 leaking = leaking_rate, \n",
    "                                 transiente = 0)\n",
    "\n",
    "# PREDIÇÃO\n",
    "predict = numpy.dot(W_output, state_matrix)"
   ]
  },
  {
   "cell_type": "code",
   "execution_count": 11,
   "id": "5d64d433",
   "metadata": {},
   "outputs": [
    {
     "data": {
      "text/plain": [
       "array([[-1.72740329,  1.61454086, -1.17371478, -1.71939559, -0.28592427,\n",
       "        -1.17490563],\n",
       "       [-1.17371478, -1.71939559, -0.28592427, -1.17490563,  0.71483788,\n",
       "        -0.28481452],\n",
       "       [-0.28592427, -1.17490563,  0.71483788, -0.28481452, -0.25854108,\n",
       "         0.70847997],\n",
       "       ...,\n",
       "       [ 0.35325567, -0.01025814,  0.45779304,  0.34717763,  0.39352527,\n",
       "         0.45120891],\n",
       "       [ 0.45779304,  0.34717763,  0.39352527,  0.45120891,  0.53770384,\n",
       "         0.38721553],\n",
       "       [ 0.39352527,  0.45120891,  0.53770384,  0.38721553,  0.26214781,\n",
       "         0.53095367]])"
      ]
     },
     "execution_count": 11,
     "metadata": {},
     "output_type": "execute_result"
    }
   ],
   "source": [
    "test_dataset"
   ]
  },
  {
   "cell_type": "code",
   "execution_count": 12,
   "id": "77ad1ea4",
   "metadata": {},
   "outputs": [
    {
     "data": {
      "text/plain": [
       "array([[ 0.71483788, -0.25854108,  1.47216147, ...,  0.53770384,\n",
       "         0.26214781,  0.78221659],\n",
       "       [-0.28481452,  0.70847997, -0.25774533, ...,  0.38721553,\n",
       "         0.53095367,  0.25674959]])"
      ]
     },
     "execution_count": 12,
     "metadata": {},
     "output_type": "execute_result"
    }
   ],
   "source": [
    "test_target"
   ]
  },
  {
   "cell_type": "code",
   "execution_count": 13,
   "id": "caebc2ee",
   "metadata": {},
   "outputs": [
    {
     "data": {
      "image/png": "[encoded data removed]",
      "text/plain": [
       "<Figure size 864x864 with 1 Axes>"
      ]
     },
     "metadata": {
      "needs_background": "light"
     },
     "output_type": "display_data"
    }
   ],
   "source": [
    "plt.figure(figsize=(12,12))\n",
    "plt.scatter(test_target[0,:], test_target[1,:], color = \"blue\", linewidth = 2, label = \"Expected\")\n",
    "plt.scatter(predict[0,:], predict[1,:], color = \"red\", linewidth = 1, label = \"Predict\")\n",
    "plt.legend()\n",
    "plt.show()"
   ]
  },
  {
   "cell_type": "code",
   "execution_count": 14,
   "id": "12f4f7ce",
   "metadata": {},
   "outputs": [
    {
     "data": {
      "text/plain": [
       "4.884986761312109e-05"
      ]
     },
     "execution_count": 14,
     "metadata": {},
     "output_type": "execute_result"
    }
   ],
   "source": [
    "mean_squared_error(test_target, predict)"
   ]
  },
  {
   "cell_type": "code",
   "execution_count": 15,
   "id": "40bb2fc6",
   "metadata": {},
   "outputs": [
    {
     "data": {
      "text/plain": [
       "0.0053428082166881285"
      ]
     },
     "execution_count": 15,
     "metadata": {},
     "output_type": "execute_result"
    }
   ],
   "source": [
    "mean_squared_error(test_target, predict, squared = False)"
   ]
  },
  {
   "cell_type": "code",
   "execution_count": 16,
   "id": "d3467b1d",
   "metadata": {},
   "outputs": [
    {
     "data": {
      "text/plain": [
       "0.026974693714153345"
      ]
     },
     "execution_count": 16,
     "metadata": {},
     "output_type": "execute_result"
    }
   ],
   "source": [
    "mean_absolute_percentage_error(test_target, predict)"
   ]
  }
 ],
 "metadata": {
  "kernelspec": {
   "display_name": "Python 3 (ipykernel)",
   "language": "python",
   "name": "python3"
  },
  "language_info": {
   "codemirror_mode": {
    "name": "ipython",
    "version": 3
   },
   "file_extension": ".py",
   "mimetype": "text/x-python",
   "name": "python",
   "nbconvert_exporter": "python",
   "pygments_lexer": "ipython3",
   "version": "3.10.9"
  },
  "vscode": {
   "interpreter": {
    "hash": "e7370f93d1d0cde622a1f8e1c04877d8463912d04d973331ad4851f04de6915a"
   }
  }
 },
 "nbformat": 4,
 "nbformat_minor": 5
}
