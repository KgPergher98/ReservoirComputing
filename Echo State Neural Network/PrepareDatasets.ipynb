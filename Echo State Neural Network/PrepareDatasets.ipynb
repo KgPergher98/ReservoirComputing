{
 "cells": [
  {
   "cell_type": "code",
   "execution_count": 65,
   "id": "35f1189c",
   "metadata": {},
   "outputs": [],
   "source": [
    "import numpy\n",
    "import ESN_Modules as ESN\n",
    "\n",
    "def set_window3(name = \"NormHenon.txt\", window_len = 1, begin = 0, steps = 0):\n",
    "    # REALIZA A LEITURA DO ARQUIVO\n",
    "    df = ESN.reshape(numpy.loadtxt(name, delimiter = \",\"))\n",
    "    # CORTA O DATAFRAME NO PONTO DESEJADO\n",
    "    df = df[begin:df.shape[0],:]\n",
    "    # CALCULA TAMANHO DE JANELA x DIMENSÃO DA JANELA\n",
    "    x = df.shape[1] * window_len\n",
    "    # CRIA REFERÊNCIA INICIAL\n",
    "    windows = df.copy()[window_len - 1 : df.shape[0] - steps,:]\n",
    "    for j in range(1, window_len):\n",
    "        # CONCATENA O DATAFRAME SHIFITADO\n",
    "        windows = numpy.hstack([df.copy()[window_len - j - 1: df.shape[0] - j - steps,:], windows])\n",
    "    return(windows, x)\n",
    "    \n",
    "steps = 1\n",
    "out = 3\n",
    "inp = 4"
   ]
  },
  {
   "cell_type": "code",
   "execution_count": 66,
   "id": "306189f4",
   "metadata": {},
   "outputs": [
    {
     "data": {
      "text/plain": [
       "array([[ 0.,  1.,  2.,  3.,  4.,  5.,  6.,  7.],\n",
       "       [ 2.,  3.,  4.,  5.,  6.,  7.,  8.,  9.],\n",
       "       [ 4.,  5.,  6.,  7.,  8.,  9., 10., 11.]])"
      ]
     },
     "execution_count": 66,
     "metadata": {},
     "output_type": "execute_result"
    }
   ],
   "source": [
    "set_window3(\"Teste.txt\", window_len = inp, begin = 0, steps = steps * out)[0]"
   ]
  },
  {
   "cell_type": "code",
   "execution_count": 67,
   "id": "43b977af",
   "metadata": {},
   "outputs": [
    {
     "data": {
      "text/plain": [
       "array([[ 8.,  9., 10., 11., 12., 13.],\n",
       "       [10., 11., 12., 13., 14., 15.],\n",
       "       [12., 13., 14., 15., 16., 17.]])"
      ]
     },
     "execution_count": 67,
     "metadata": {},
     "output_type": "execute_result"
    }
   ],
   "source": [
    "set_window3(\"Teste.txt\", window_len = out, begin = inp)[0]"
   ]
  }
 ],
 "metadata": {
  "kernelspec": {
   "display_name": "Python 3 (ipykernel)",
   "language": "python",
   "name": "python3"
  },
  "language_info": {
   "codemirror_mode": {
    "name": "ipython",
    "version": 3
   },
   "file_extension": ".py",
   "mimetype": "text/x-python",
   "name": "python",
   "nbconvert_exporter": "python",
   "pygments_lexer": "ipython3",
   "version": "3.9.7"
  }
 },
 "nbformat": 4,
 "nbformat_minor": 5
}
